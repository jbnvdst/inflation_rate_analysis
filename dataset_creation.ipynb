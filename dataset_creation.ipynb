{
 "cells": [
  {
   "cell_type": "markdown",
   "metadata": {},
   "source": [
    "# Consumption of Banxico API and creation of a dataset"
   ]
  },
  {
   "cell_type": "markdown",
   "metadata": {},
   "source": [
    "## Libraries"
   ]
  },
  {
   "cell_type": "markdown",
   "metadata": {},
   "source": [
    "Shot out to the user @EliasManJ who created the library for Banxico API for Python"
   ]
  },
  {
   "cell_type": "code",
   "execution_count": 2,
   "metadata": {},
   "outputs": [],
   "source": [
    "import pandas as pd\n",
    "import os\n",
    "import json\n",
    "from banxicoapi import banxico_api"
   ]
  },
  {
   "cell_type": "markdown",
   "metadata": {},
   "source": [
    "## API call and save of the results"
   ]
  },
  {
   "cell_type": "code",
   "execution_count": 3,
   "metadata": {},
   "outputs": [],
   "source": [
    "api_token = os.environ['BANXICO_TOKEN']\n",
    "api = banxico_api.BanxicoApi(api_token)\n",
    "\n",
    "series = [\"SP30577\", \t# National Consumer Price Index\n",
    "\t\t\t\"SF29652\",\t# Monetary base\n",
    "\t\t\t\"SF283\",\t# Interest rate for public debt instruments (CETES) 28 days\n",
    "\t\t\t\"SF31991\", \t# International reserves of the Bank of Mexico (USD)\n",
    "\t\t\t\"SG41\"\t\t# Public sector balance\n",
    "\t\t\t]\n",
    "data = api.get(series)\n",
    "\n",
    "# trasnform to json\n",
    "with open(\"api_call.json\", \"w\") as f:\n",
    "\tjson.dump(data, f)"
   ]
  },
  {
   "cell_type": "markdown",
   "metadata": {},
   "source": [
    "## Creation of the dataset from the json file"
   ]
  },
  {
   "cell_type": "code",
   "execution_count": 4,
   "metadata": {},
   "outputs": [
    {
     "name": "stdout",
     "output_type": "stream",
     "text": [
      "Processed values for SF29652_Base Monetaria: 359\n",
      "Processed values for SF31991_Banco de Mexico, Recursos en moneda extranjera, Reserva Internacional (Definida de acuerdo con la Ley del Banco de Mexico de Abril de 1994): 479\n",
      "Processed values for SP30577_Índice Nacional de Precios al consumidor Variacion mensual: 671\n",
      "Processed values for SG41_Ingresos y Gastos Presupuestales del Sector Publico Medicion por Ingreso-Gasto, Flujos de Caja Balance publico Balance presupuestario: 575\n",
      "Processed values for SF283_TIIE a 28 dias Tasa de interes promedio mensual, en por ciento anual: 359\n",
      "\n",
      "Created: output\\Inflation_Rate_Variables_Dataset.csv\n"
     ]
    }
   ],
   "source": [
    "def clean_column_name(series_id, title):\n",
    "    \"\"\"Create a clean column name from series ID and title.\"\"\"\n",
    "    clean_title = title.replace('í', 'i').replace('é', 'e').replace('á', 'a').replace('ó', 'o').replace('ú', 'u')\n",
    "    return f\"{series_id}_{clean_title}\"\n",
    "\n",
    "def convert_json_to_csv(json_data, output_dir='output'):\n",
    "    # Create output directory if it doesn't exist\n",
    "    if not os.path.exists(output_dir):\n",
    "        os.makedirs(output_dir)\n",
    "    \n",
    "    # Parse JSON data\n",
    "    data = json.loads(json_data)\n",
    "    \n",
    "    # Dictionary to store all series data\n",
    "    all_dates = set()\n",
    "    series_data = {}\n",
    "    \n",
    "    # First pass: collect all dates and prepare series data\n",
    "    for series in data:\n",
    "        series_id = series['idSerie']\n",
    "        series_title = series['titulo']\n",
    "        column_name = clean_column_name(series_id, series_title)\n",
    "        \n",
    "        # Create a dictionary for this series\n",
    "        date_value_dict = {}\n",
    "        \n",
    "        for entry in series['datos']:\n",
    "            try:\n",
    "                date = pd.to_datetime(entry['fecha'], format='%d/%m/%Y')\n",
    "                value = entry['dato']\n",
    "                \n",
    "                # Handle numeric values with comma as thousand separator\n",
    "                if isinstance(value, str):\n",
    "                    if value == 'N/E':\n",
    "                        value = pd.NA\n",
    "                    else:\n",
    "                        # Remove commas and convert to float\n",
    "                        value = float(value.replace(',', ''))\n",
    "                \n",
    "                date_value_dict[date] = value\n",
    "                all_dates.add(date)\n",
    "                \n",
    "            except Exception as e:\n",
    "                print(f\"Error processing entry {entry}: {str(e)}\")\n",
    "        \n",
    "        series_data[column_name] = date_value_dict\n",
    "            \n",
    "        print(f\"Processed values for {column_name}: {len(date_value_dict)}\")\n",
    "    \n",
    "    # Convert to DataFrame\n",
    "    all_dates = sorted(list(all_dates))\n",
    "    df_dict = {}\n",
    "    \n",
    "    for column_name, date_value_dict in series_data.items():\n",
    "        # Create a series with all dates, filling missing values with NA\n",
    "        series_values = [date_value_dict.get(date, pd.NA) for date in all_dates]\n",
    "        df_dict[column_name] = series_values\n",
    "    \n",
    "    # Create final DataFrame\n",
    "    combined_df = pd.DataFrame(df_dict, index=all_dates)\n",
    "    \n",
    "    # Sort by date\n",
    "    combined_df.sort_index(inplace=True)\n",
    "    \n",
    "    # Save to CSV\n",
    "    output_path = os.path.join(output_dir, 'Inflation_Rate_Variables_Dataset.csv')\n",
    "    combined_df.to_csv(output_path, encoding='utf-8')\n",
    "    print(f\"\\nCreated: {output_path}\")\n",
    "\n",
    "# Load JSON data\n",
    "with open(\"api_call.json\", \"r\") as f:\n",
    "    json_data = f.read()\n",
    "\n",
    "# Convert JSON to CSV\n",
    "convert_json_to_csv(json_data)"
   ]
  }
 ],
 "metadata": {
  "kernelspec": {
   "display_name": "inflation_rate",
   "language": "python",
   "name": "python3"
  },
  "language_info": {
   "codemirror_mode": {
    "name": "ipython",
    "version": 3
   },
   "file_extension": ".py",
   "mimetype": "text/x-python",
   "name": "python",
   "nbconvert_exporter": "python",
   "pygments_lexer": "ipython3",
   "version": "3.9.21"
  }
 },
 "nbformat": 4,
 "nbformat_minor": 2
}
